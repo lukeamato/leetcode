{
 "cells": [
  {
   "cell_type": "markdown",
   "id": "755741f2",
   "metadata": {},
   "source": [
    "# Luke's invention Pt I: Cheapest Flight From A to Z\n",
    "\n",
    "You are given a string like \"UK:US:FedEx:4,UK:FR:Jet1:2,US:UK:RyanAir:8,CA:UK:CanadaAir:8\" representing flights with from:to:airline:cost.\n",
    "\n",
    "Given a source & destination, find the cheapest direct flight to get there. If there is no such route, return None.\n",
    "\n",
    "## Example 1:\n",
    "\n",
    "**flights:** \"UK:US:FedEx:4,UK:FR:Jet1:2,US:UK:RyanAir:8,CA:UK:CanadaAir:8\"\n",
    "\n",
    "**Input:** UK, US\n",
    "\n",
    "**Output:** \"UK:US:FedEx:4\"\n",
    "\n",
    "## Constraints:\n",
    "\n",
    "- If two flights are the same cost, return either\n",
    "- src != dst\n",
    "- assumes flights from src - dst are unique (not multiple airlines included on same route)"
   ]
  },
  {
   "cell_type": "code",
   "execution_count": 4,
   "id": "f229bd82",
   "metadata": {},
   "outputs": [],
   "source": [
    "from collections import defaultdict\n",
    "from functools import cache\n",
    "\n",
    "# Bellman-Ford BFS approach\n",
    "class Solution():\n",
    "\n",
    "    def __init__(self, flights: str):\n",
    "        self.flightDirectory = self.getFlightDirectory(flights)\n",
    "\n",
    "    def getFlightDirectory(self, flights: str) -> dict[dict]:\n",
    "        # \"UK:US:FedEx:4,UK:FR:Jet1:2,US:UK:RyanAir:8,CA:UK:CanadaAir:8\"\n",
    "        flightDirectory = defaultdict(lambda: defaultdict(list))\n",
    "        flightList = flights.split(',')\n",
    "        for flight in flightList:\n",
    "            src, dst, airline, cost = flight.split(':')\n",
    "            flightDirectory[src][dst].append({\n",
    "                'airline': airline,\n",
    "                'cost': cost\n",
    "            })\n",
    "        return flightDirectory\n",
    "\n",
    "    def findCheapestFlight(self, src: str, dst: str) -> str:\n",
    "        minCost = float('inf')\n",
    "        minCostFlight = None\n",
    "        for flight in self.flightDirectory[src][dst]:\n",
    "            if float(flight['cost']) < minCost:\n",
    "                minCostFlight = f\"{src}:{dst}:{flight['airline']}:{flight['cost']}\"\n",
    "        return minCostFlight\n"
   ]
  },
  {
   "cell_type": "code",
   "execution_count": 5,
   "id": "ddfcaeae",
   "metadata": {},
   "outputs": [],
   "source": [
    "# TEST CASES\n",
    "\n",
    "sol1 = Solution(\"UK:US:FedEx:4,UK:FR:Jet1:2,US:UK:RyanAir:8,CA:UK:CanadaAir:8\")\n",
    "\n",
    "result = sol1.findCheapestFlight('UK', 'US')\n",
    "\n",
    "assert(result == 'UK:US:FedEx:4')"
   ]
  }
 ],
 "metadata": {
  "kernelspec": {
   "display_name": "venv",
   "language": "python",
   "name": "python3"
  },
  "language_info": {
   "codemirror_mode": {
    "name": "ipython",
    "version": 3
   },
   "file_extension": ".py",
   "mimetype": "text/x-python",
   "name": "python",
   "nbconvert_exporter": "python",
   "pygments_lexer": "ipython3",
   "version": "3.13.2"
  }
 },
 "nbformat": 4,
 "nbformat_minor": 5
}
