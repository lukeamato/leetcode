{
 "cells": [
  {
   "cell_type": "markdown",
   "id": "755741f2",
   "metadata": {},
   "source": [
    "# Luke's invention Pt II: Find any route with unlimited stops\n",
    "\n",
    "You are given a string like \"UK:US:FedEx:4,UK:FR:Jet1:2,US:UK:RyanAir:8,CA:UK:CanadaAir:8\" representing flights with from:to:airline:cost.\n",
    "\n",
    "Given a source & destination, find any route to get from source to destination, with any number of stops. If there is no such route, return -1.\n",
    "\n",
    "## Example 1:\n",
    "\n",
    "**flights:** \"UK:US:FedEx:4,UK:FR:Jet1:2,US:UK:RyanAir:8,CA:UK:CanadaAir:8\"\n",
    "**Input:** US, FR\n",
    "**Output:** \"US:UK:FR\", 10\n",
    "\n",
    "## Constraints:\n",
    "\n",
    "- src != dst"
   ]
  },
  {
   "cell_type": "code",
   "execution_count": 15,
   "id": "f229bd82",
   "metadata": {},
   "outputs": [],
   "source": [
    "from collections import defaultdict, deque\n",
    "from functools import cache\n",
    "\n",
    "# Bellman-Ford BFS approach\n",
    "class Solution():\n",
    "\n",
    "    def __init__(self, flights: str):\n",
    "        self.flightDirectory = self.getFlightDirectory(flights)\n",
    "\n",
    "    def getFlightDirectory(self, flights: str) -> dict[dict]:\n",
    "        # \"UK:US:FedEx:4,UK:FR:Jet1:2,US:UK:RyanAir:8,CA:UK:CanadaAir:8\"\n",
    "        flightDirectory = defaultdict(lambda: defaultdict(list))\n",
    "        flightList = flights.split(',')\n",
    "        for flight in flightList:\n",
    "            src, dst, airline, cost = flight.split(':')\n",
    "            flightDirectory[src][dst].append({\n",
    "                'airline': airline,\n",
    "                'cost': float(cost)\n",
    "            })\n",
    "        return flightDirectory\n",
    "    \n",
    "    def findCheapestFlight(self, src: str, dst: str) -> str:\n",
    "        minCost = float('inf')\n",
    "        minCostFlight = None\n",
    "        for flight in self.flightDirectory[src][dst]:\n",
    "            if flight['cost'] < minCost:\n",
    "                # minCostFlight = f\"{src}:{dst}:{flight['airline']}:{flight['cost']}\"\n",
    "                minCostFlight = flight\n",
    "        return minCostFlight\n",
    "\n",
    "    def findRoute(self, src: str, dst: str) -> str:\n",
    "        # Use BFS to minimize the number of stops\n",
    "        queue = deque([(src, 0)])\n",
    "        visited = set([src])\n",
    "        parent = {src: None}\n",
    "\n",
    "        while queue:\n",
    "            v, cost = queue.popleft()\n",
    "            visited.add(v)\n",
    "\n",
    "            if v == dst:\n",
    "                # return \"US:UK:FR\", 10\n",
    "                curr, path = dst, []\n",
    "                while curr:\n",
    "                    path.append(curr)\n",
    "                    curr = parent[curr]\n",
    "                path = path[::-1]\n",
    "                return (':'.join(path), cost)\n",
    "            \n",
    "            for adj in self.flightDirectory[v]:\n",
    "                flight = self.findCheapestFlight(v, adj)\n",
    "                if adj not in visited:\n",
    "                    queue.append((adj, cost + flight['cost']))\n",
    "                    parent[adj] = v\n",
    "        \n",
    "        return None\n"
   ]
  },
  {
   "cell_type": "code",
   "execution_count": 16,
   "id": "ddfcaeae",
   "metadata": {},
   "outputs": [],
   "source": [
    "# TEST CASES\n",
    "\n",
    "sol1 = Solution(\"UK:US:FedEx:4,UK:FR:Jet1:2,US:UK:RyanAir:8,CA:UK:CanadaAir:8\")\n",
    "\n",
    "result = sol1.findRoute('US', 'FR')\n",
    "\n",
    "assert(result == ('US:UK:FR', 10))\n"
   ]
  }
 ],
 "metadata": {
  "kernelspec": {
   "display_name": "venv",
   "language": "python",
   "name": "python3"
  },
  "language_info": {
   "codemirror_mode": {
    "name": "ipython",
    "version": 3
   },
   "file_extension": ".py",
   "mimetype": "text/x-python",
   "name": "python",
   "nbconvert_exporter": "python",
   "pygments_lexer": "ipython3",
   "version": "3.13.2"
  }
 },
 "nbformat": 4,
 "nbformat_minor": 5
}
