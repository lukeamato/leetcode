{
 "cells": [
  {
   "cell_type": "markdown",
   "id": "46d09b6d",
   "metadata": {},
   "source": [
    "# [875. Koko Eating Bananas](https://leetcode.com/problems/koko-eating-bananas/description/?envType=company&envId=doordash&favoriteSlug=doordash-six-months)\n",
    "\n",
    "Koko loves to eat bananas. There are `n` piles of bananas, the `i^th` pile has `piles[i]` bananas. The guards have gone and will come back in `h` hours.\n",
    "\n",
    "Koko can decide her bananas-per-hour eating speed of `k`. Each hour, she chooses some pile of bananas and eats `k` bananas from that pile. If the pile has less than `k` bananas, she eats all of them instead and will not eat any more bananas during this hour.\n",
    "\n",
    "Koko likes to eat slowly but still wants to finish eating all the bananas before the guards return.\n",
    "\n",
    "Return the minimum integer `k` such that she can eat all the bananas within `h` hours.\n",
    "\n",
    "**Example 1:** \n",
    "\n",
    "```\n",
    "Input: piles = [3,6,7,11], h = 8\n",
    "Output: 4\n",
    "```\n",
    "\n",
    "**Example 2:** \n",
    "\n",
    "```\n",
    "Input: piles = [30,11,23,4,20], h = 5\n",
    "Output: 30\n",
    "```\n",
    "\n",
    "**Example 3:** \n",
    "\n",
    "```\n",
    "Input: piles = [30,11,23,4,20], h = 6\n",
    "Output: 23\n",
    "```\n",
    "\n",
    "**Constraints:** \n",
    "\n",
    "- `1 <= piles.length <= 10^4`\n",
    "- `piles.length <= h <= 10^9`\n",
    "- `1 <= piles[i] <= 10^9`"
   ]
  },
  {
   "cell_type": "code",
   "execution_count": null,
   "id": "6197edae",
   "metadata": {},
   "outputs": [],
   "source": [
    "import math\n",
    "\n",
    "class Solution:\n",
    "    def minEatingSpeed(self, piles: list[int], h: int) -> int:\n",
    "        # brute force => start at k = 1 . Go up until we reach the min k that works\n",
    "\n",
    "        # Instead, realize the absolute max value of k would be size of largest pile in piles\n",
    "        # Binary search between 1 => maxK, keeping track of the minK that works!\n",
    "\n",
    "        maxK = max(piles)\n",
    "        l, r = 1, maxK\n",
    "\n",
    "        minK = maxK\n",
    "\n",
    "        while l <= r:\n",
    "            currK = (l+r)//2\n",
    "            hUsed = self.testK(piles, h, currK)\n",
    "            if hUsed <= h:\n",
    "                minK = currK\n",
    "                r = currK - 1\n",
    "            else:\n",
    "                l = currK + 1\n",
    "        \n",
    "        return minK\n",
    "\n",
    "    def testK(self, piles: list[int], k: int) -> bool:\n",
    "        hoursUsed = 0\n",
    "        for pile in piles:\n",
    "            hoursUsed += (math.ceil(pile / k))\n",
    "        return hoursUsed"
   ]
  },
  {
   "cell_type": "markdown",
   "id": "fade1ae2",
   "metadata": {},
   "source": [
    "### Time complexity\n",
    "O(log(max(piles))) since we are doing binary search over 1 => max(piles)\n",
    "\n",
    "### Space complexity \n",
    "Our space complexity is O(1)!"
   ]
  }
 ],
 "metadata": {
  "language_info": {
   "name": "python"
  }
 },
 "nbformat": 4,
 "nbformat_minor": 5
}
