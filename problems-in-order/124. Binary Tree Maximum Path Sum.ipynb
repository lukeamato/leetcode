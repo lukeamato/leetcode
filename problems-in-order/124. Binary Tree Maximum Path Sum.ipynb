{
 "cells": [
  {
   "cell_type": "markdown",
   "id": "b6ecaecc",
   "metadata": {},
   "source": [
    "# [124. Binary Tree Maximum Path Sum](https://leetcode.com/problems/binary-tree-maximum-path-sum/description/?envType=company&envId=doordash&favoriteSlug=doordash-six-months)\n",
    "\n",
    "A **path**  in a binary tree is a sequence of nodes where each pair of adjacent nodes in the sequence has an edge connecting them. A node can only appear in the sequence **at most once** . Note that the path does not need to pass through the root.\n",
    "\n",
    "The **path sum**  of a path is the sum of the node's values in the path.\n",
    "\n",
    "Given the `root` of a binary tree, return the maximum **path sum**  of any **non-empty**  path.\n",
    "\n",
    "**Example 1:** \n",
    "<img alt=\"\" src=\"https://assets.leetcode.com/uploads/2020/10/13/exx1.jpg\" style=\"width: 322px; height: 182px;\">\n",
    "\n",
    "```\n",
    "Input: root = [1,2,3]\n",
    "Output: 6\n",
    "Explanation: The optimal path is 2 -> 1 -> 3 with a path sum of 2 + 1 + 3 = 6.\n",
    "```\n",
    "\n",
    "**Example 2:** \n",
    "<img alt=\"\" src=\"https://assets.leetcode.com/uploads/2020/10/13/exx2.jpg\">\n",
    "\n",
    "```\n",
    "Input: root = [-10,9,20,null,null,15,7]\n",
    "Output: 42\n",
    "Explanation: The optimal path is 15 -> 20 -> 7 with a path sum of 15 + 20 + 7 = 42.\n",
    "```\n",
    "\n",
    "**Constraints:** \n",
    "\n",
    "- The number of nodes in the tree is in the range `[1, 3 * 10^4]`.\n",
    "- `-1000 <= Node.val <= 1000`"
   ]
  },
  {
   "cell_type": "code",
   "execution_count": null,
   "id": "c1ce767d",
   "metadata": {},
   "outputs": [],
   "source": [
    "from collections import Optional\n",
    "\n",
    "# Definition for a binary tree node.\n",
    "class TreeNode:\n",
    "    def __init__(self, val=0, left=None, right=None):\n",
    "        self.val = val\n",
    "        self.left = left\n",
    "        self.right = right\n",
    "        \n",
    "class Solution:\n",
    "    def maxPathSum(self, root: Optional[TreeNode]) -> int:\n",
    "        leftContained, leftInclusive = self.maxPathHelp(root.left)\n",
    "        rightContained, rightInclusive = self.maxPathHelp(root.right)\n",
    "        print(leftContained, leftInclusive, rightContained, rightInclusive)\n",
    "        return max(leftContained, rightContained, leftInclusive + root.val + rightInclusive, root.val, leftInclusive + root.val, root.val + rightInclusive) \n",
    "\n",
    "    def maxPathHelp(self, root: Optional[TreeNode]) -> tuple[int, int]:\n",
    "        if not root:\n",
    "            return float(\"-inf\"), float(\"-inf\")\n",
    "        \n",
    "        leftContained, leftInclusive = self.maxPathHelp(root.left)\n",
    "        rightContained, rightInclusive = self.maxPathHelp(root.right)\n",
    "        inclusiveMaxPath = max(leftInclusive + root.val, rightInclusive + root.val, root.val)\n",
    "        return max(inclusiveMaxPath, leftContained, rightContained, leftInclusive + root.val + rightInclusive), inclusiveMaxPath"
   ]
  },
  {
   "cell_type": "markdown",
   "id": "45a40ac5",
   "metadata": {},
   "source": [
    "### Time complexity\n",
    " O(N) because we have to visit every node oncew\n",
    "\n",
    "### Space complexity \n",
    "Our space complexity comes from the call stack. Will be O(N) in worst case of an unbalanced tree. It would be O(logn) with a balanced tree"
   ]
  }
 ],
 "metadata": {
  "language_info": {
   "name": "python"
  }
 },
 "nbformat": 4,
 "nbformat_minor": 5
}
