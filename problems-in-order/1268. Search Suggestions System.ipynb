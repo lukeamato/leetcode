{
 "cells": [
  {
   "cell_type": "markdown",
   "id": "4fa3256e",
   "metadata": {},
   "source": [
    "# [1268. Search Suggestions System](https://leetcode.com/problems/search-suggestions-system/description/?envType=company&envId=doordash&favoriteSlug=doordash-six-months)\n",
    "\n",
    "You are given an array of strings `products` and a string `searchWord`.\n",
    "\n",
    "Design a system that suggests at most three product names from `products` after each character of `searchWord` is typed. Suggested products should have common prefix with `searchWord`. If there are more than three products with a common prefix return the three lexicographically minimums products.\n",
    "\n",
    "Return a list of lists of the suggested products after each character of `searchWord` is typed.\n",
    "\n",
    "**Example 1:** \n",
    "\n",
    "```\n",
    "Input: products = [\"mobile\",\"mouse\",\"moneypot\",\"monitor\",\"mousepad\"], searchWord = \"mouse\"\n",
    "Output: [[\"mobile\",\"moneypot\",\"monitor\"],[\"mobile\",\"moneypot\",\"monitor\"],[\"mouse\",\"mousepad\"],[\"mouse\",\"mousepad\"],[\"mouse\",\"mousepad\"]]\n",
    "Explanation: products sorted lexicographically = [\"mobile\",\"moneypot\",\"monitor\",\"mouse\",\"mousepad\"].\n",
    "After typing m and mo all products match and we show user [\"mobile\",\"moneypot\",\"monitor\"].\n",
    "After typing mou, mous and mouse the system suggests [\"mouse\",\"mousepad\"].\n",
    "```\n",
    "\n",
    "**Example 2:** \n",
    "\n",
    "```\n",
    "Input: products = [\"havana\"], searchWord = \"havana\"\n",
    "Output: [[\"havana\"],[\"havana\"],[\"havana\"],[\"havana\"],[\"havana\"],[\"havana\"]]\n",
    "Explanation: The only word \"havana\" will be always suggested while typing the search word.\n",
    "```\n",
    "\n",
    "**Constraints:** \n",
    "\n",
    "- `1 <= products.length <= 1000`\n",
    "- `1 <= products[i].length <= 3000`\n",
    "- `1 <= sum(products[i].length) <= 2 * 10^4`\n",
    "- All the strings of `products` are **unique** .\n",
    "- `products[i]` consists of lowercase English letters.\n",
    "- `1 <= searchWord.length <= 1000`\n",
    "- `searchWord` consists of lowercase English letters."
   ]
  },
  {
   "cell_type": "code",
   "execution_count": null,
   "id": "76a2e1b5",
   "metadata": {},
   "outputs": [],
   "source": [
    "import bisect\n",
    "\n",
    "class Solution:\n",
    "    def suggestedProducts(self, products: list[str], searchWord: str) -> list[list[str]]:\n",
    "        # Sort products lexicographically\n",
    "        products.sort()\n",
    "        \n",
    "        result = []\n",
    "        prefix = \"\"\n",
    "        \n",
    "        for char in searchWord:\n",
    "            prefix += char\n",
    "            \n",
    "            # Use binary search to find the index of the first product that starts with prefix\n",
    "            start_idx = bisect.bisect_left(products, prefix)\n",
    "            \n",
    "            # Collect up to 3 suggestions\n",
    "            suggestions = []\n",
    "            for i in range(start_idx, min(start_idx + 3, len(products))):\n",
    "                # Check if the product actually starts with the prefix\n",
    "                if i < len(products) and products[i].startswith(prefix):\n",
    "                    suggestions.append(products[i])\n",
    "                else:\n",
    "                    break\n",
    "            \n",
    "            result.append(suggestions)\n",
    "            \n",
    "        return result"
   ]
  },
  {
   "cell_type": "markdown",
   "id": "ddf70816",
   "metadata": {},
   "source": [
    "### Time complexity\n",
    "\n",
    "Time complexity : O(nlog(n))+O(mlog(n)). Where n is the length of products and m is the length of the search word. Here we treat string comparison in sorting as O(1). O(nlog(n)) comes from the sorting and O(mlog(n)) comes from running binary search on products m times.\n",
    "\n",
    "### Space complexity\n",
    "\n",
    "Technically O(m) to hold all of the suggestions because 3 * number of chars in search term, but this is only related to output and not the algo space"
   ]
  }
 ],
 "metadata": {
  "language_info": {
   "name": "python"
  }
 },
 "nbformat": 4,
 "nbformat_minor": 5
}
