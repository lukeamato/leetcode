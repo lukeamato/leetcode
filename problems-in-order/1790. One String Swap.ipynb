{
 "cells": [
  {
   "cell_type": "markdown",
   "id": "a3b90a45",
   "metadata": {},
   "source": [
    "# [1790. Check if One String Swap Can Make Strings Equal](https://leetcode.com/problems/check-if-one-string-swap-can-make-strings-equal/description/?envType=company&envId=doordash&favoriteSlug=doordash-six-months)\n",
    "\n",
    "You are given two strings `s1` and `s2` of equal length. A **string swap**  is an operation where you choose two indices in a string (not necessarily different) and swap the characters at these indices.\n",
    "\n",
    "Return `true` if it is possible to make both strings equal by performing **at most one string swap ** on **exactly one**  of the strings. Otherwise, return `false`.\n",
    "\n",
    "**Example 1:** \n",
    "\n",
    "```\n",
    "Input: s1 = \"bank\", s2 = \"kanb\"\n",
    "Output: true\n",
    "Explanation: For example, swap the first character with the last character of s2 to make \"bank\".\n",
    "```\n",
    "\n",
    "**Example 2:** \n",
    "\n",
    "```\n",
    "Input: s1 = \"attack\", s2 = \"defend\"\n",
    "Output: false\n",
    "Explanation: It is impossible to make them equal with one string swap.\n",
    "```\n",
    "\n",
    "**Example 3:** \n",
    "\n",
    "```\n",
    "Input: s1 = \"kelb\", s2 = \"kelb\"\n",
    "Output: true\n",
    "Explanation: The two strings are already equal, so no string swap operation is required.\n",
    "```\n",
    "\n",
    "**Constraints:** \n",
    "\n",
    "- `1 <= s1.length, s2.length <= 100`\n",
    "- `s1.length == s2.length`\n",
    "- `s1` and `s2` consist of only lowercase English letters."
   ]
  },
  {
   "cell_type": "code",
   "execution_count": 1,
   "id": "40502664",
   "metadata": {},
   "outputs": [],
   "source": [
    "class Solution:\n",
    "    def areAlmostEqual(self, s1: str, s2: str) -> bool:\n",
    "        ans = True\n",
    "        s1DiffSet = set()\n",
    "        s2DiffSet = set()\n",
    "\n",
    "        for i in range(len(s1)):\n",
    "            if (s1[i] != s2[i]):\n",
    "                if len(s1DiffSet) == 2:\n",
    "                    return False \n",
    "                s1DiffSet.add(s1[i])\n",
    "                s2DiffSet.add(s2[i])\n",
    "        \n",
    "        return s1DiffSet == s2DiffSet"
   ]
  },
  {
   "cell_type": "code",
   "execution_count": null,
   "id": "03a69173",
   "metadata": {},
   "outputs": [],
   "source": [
    "# TESTS\n",
    "\n",
    "sol = Solution()\n",
    "assert(sol.areAlmostEqual('bank','kanb'))\n",
    "assert(sol.areAlmostEqual('attack','defend') == False)\n",
    "assert(sol.areAlmostEqual('kelb','kelb'))\n",
    "\n",
    "# EDGE CASES TODO:\n"
   ]
  }
 ],
 "metadata": {
  "kernelspec": {
   "display_name": "venv",
   "language": "python",
   "name": "python3"
  },
  "language_info": {
   "codemirror_mode": {
    "name": "ipython",
    "version": 3
   },
   "file_extension": ".py",
   "mimetype": "text/x-python",
   "name": "python",
   "nbconvert_exporter": "python",
   "pygments_lexer": "ipython3",
   "version": "3.13.2"
  }
 },
 "nbformat": 4,
 "nbformat_minor": 5
}
